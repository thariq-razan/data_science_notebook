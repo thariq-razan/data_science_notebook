{
  "nbformat": 4,
  "nbformat_minor": 0,
  "metadata": {
    "colab": {
      "provenance": []
    },
    "kernelspec": {
      "name": "python3",
      "display_name": "Python 3"
    },
    "language_info": {
      "name": "python"
    }
  },
  "cells": [
    {
      "cell_type": "markdown",
      "source": [
        "**need to be fixed**: repeated image got downloaded on every iteration!!!"
      ],
      "metadata": {
        "id": "n5OKAQmaDDXB"
      }
    },
    {
      "cell_type": "code",
      "source": [
        "!pip install selenium\n",
        "!apt-get update # to update ubuntu to correctly run apt install\n",
        "!apt install chromium-chromedriver\n",
        "!cp /usr/lib/chromium-browser/chromedriver /usr/bin\n",
        "import sys\n",
        "sys.path.insert(0,'/usr/lib/chromium-browser/chromedriver')\n",
        "from selenium import webdriver\n",
        "chrome_options = webdriver.ChromeOptions()\n",
        "chrome_options.add_argument('--headless')\n",
        "chrome_options.add_argument('--no-sandbox')\n",
        "chrome_options.add_argument('--disable-dev-shm-usage')\n",
        "wd = webdriver.Chrome('chromedriver',options=chrome_options)"
      ],
      "metadata": {
        "colab": {
          "base_uri": "https://localhost:8080/"
        },
        "id": "4RkxuVPQCNsJ",
        "outputId": "70b35264-5dfe-4228-d5e7-697a4f9ed9e1"
      },
      "execution_count": null,
      "outputs": [
        {
          "output_type": "stream",
          "name": "stdout",
          "text": [
            "Looking in indexes: https://pypi.org/simple, https://us-python.pkg.dev/colab-wheels/public/simple/\n",
            "Collecting selenium\n",
            "  Downloading selenium-4.2.0-py3-none-any.whl (983 kB)\n",
            "\u001b[K     |████████████████████████████████| 983 kB 5.2 MB/s \n",
            "\u001b[?25hCollecting urllib3[secure,socks]~=1.26\n",
            "  Downloading urllib3-1.26.9-py2.py3-none-any.whl (138 kB)\n",
            "\u001b[K     |████████████████████████████████| 138 kB 50.4 MB/s \n",
            "\u001b[?25hCollecting trio-websocket~=0.9\n",
            "  Downloading trio_websocket-0.9.2-py3-none-any.whl (16 kB)\n",
            "Collecting trio~=0.17\n",
            "  Downloading trio-0.20.0-py3-none-any.whl (359 kB)\n",
            "\u001b[K     |████████████████████████████████| 359 kB 35.9 MB/s \n",
            "\u001b[?25hCollecting async-generator>=1.9\n",
            "  Downloading async_generator-1.10-py3-none-any.whl (18 kB)\n",
            "Collecting outcome\n",
            "  Downloading outcome-1.1.0-py2.py3-none-any.whl (9.7 kB)\n",
            "Collecting sniffio\n",
            "  Downloading sniffio-1.2.0-py3-none-any.whl (10 kB)\n",
            "Requirement already satisfied: sortedcontainers in /usr/local/lib/python3.7/dist-packages (from trio~=0.17->selenium) (2.4.0)\n",
            "Requirement already satisfied: attrs>=19.2.0 in /usr/local/lib/python3.7/dist-packages (from trio~=0.17->selenium) (21.4.0)\n",
            "Requirement already satisfied: idna in /usr/local/lib/python3.7/dist-packages (from trio~=0.17->selenium) (2.10)\n",
            "Collecting wsproto>=0.14\n",
            "  Downloading wsproto-1.1.0-py3-none-any.whl (24 kB)\n",
            "Requirement already satisfied: PySocks!=1.5.7,<2.0,>=1.5.6 in /usr/local/lib/python3.7/dist-packages (from urllib3[secure,socks]~=1.26->selenium) (1.7.1)\n",
            "Requirement already satisfied: certifi in /usr/local/lib/python3.7/dist-packages (from urllib3[secure,socks]~=1.26->selenium) (2022.5.18.1)\n",
            "Collecting pyOpenSSL>=0.14\n",
            "  Downloading pyOpenSSL-22.0.0-py2.py3-none-any.whl (55 kB)\n",
            "\u001b[K     |████████████████████████████████| 55 kB 3.7 MB/s \n",
            "\u001b[?25hCollecting cryptography>=1.3.4\n",
            "  Downloading cryptography-37.0.2-cp36-abi3-manylinux_2_24_x86_64.whl (4.0 MB)\n",
            "\u001b[K     |████████████████████████████████| 4.0 MB 34.7 MB/s \n",
            "\u001b[?25hRequirement already satisfied: cffi>=1.12 in /usr/local/lib/python3.7/dist-packages (from cryptography>=1.3.4->urllib3[secure,socks]~=1.26->selenium) (1.15.0)\n",
            "Requirement already satisfied: pycparser in /usr/local/lib/python3.7/dist-packages (from cffi>=1.12->cryptography>=1.3.4->urllib3[secure,socks]~=1.26->selenium) (2.21)\n",
            "Collecting h11<1,>=0.9.0\n",
            "  Downloading h11-0.13.0-py3-none-any.whl (58 kB)\n",
            "\u001b[K     |████████████████████████████████| 58 kB 5.3 MB/s \n",
            "\u001b[?25hRequirement already satisfied: typing-extensions in /usr/local/lib/python3.7/dist-packages (from h11<1,>=0.9.0->wsproto>=0.14->trio-websocket~=0.9->selenium) (4.2.0)\n",
            "Installing collected packages: sniffio, outcome, h11, cryptography, async-generator, wsproto, urllib3, trio, pyOpenSSL, trio-websocket, selenium\n",
            "  Attempting uninstall: urllib3\n",
            "    Found existing installation: urllib3 1.24.3\n",
            "    Uninstalling urllib3-1.24.3:\n",
            "      Successfully uninstalled urllib3-1.24.3\n",
            "\u001b[31mERROR: pip's dependency resolver does not currently take into account all the packages that are installed. This behaviour is the source of the following dependency conflicts.\n",
            "requests 2.23.0 requires urllib3!=1.25.0,!=1.25.1,<1.26,>=1.21.1, but you have urllib3 1.26.9 which is incompatible.\n",
            "datascience 0.10.6 requires folium==0.2.1, but you have folium 0.8.3 which is incompatible.\u001b[0m\n",
            "Successfully installed async-generator-1.10 cryptography-37.0.2 h11-0.13.0 outcome-1.1.0 pyOpenSSL-22.0.0 selenium-4.2.0 sniffio-1.2.0 trio-0.20.0 trio-websocket-0.9.2 urllib3-1.26.9 wsproto-1.1.0\n",
            "Get:1 http://security.ubuntu.com/ubuntu bionic-security InRelease [88.7 kB]\n",
            "Hit:2 http://archive.ubuntu.com/ubuntu bionic InRelease\n",
            "Get:3 http://archive.ubuntu.com/ubuntu bionic-updates InRelease [88.7 kB]\n",
            "Get:4 https://developer.download.nvidia.com/compute/cuda/repos/ubuntu1804/x86_64  InRelease [1,581 B]\n",
            "Get:5 http://ppa.launchpad.net/c2d4u.team/c2d4u4.0+/ubuntu bionic InRelease [15.9 kB]\n",
            "Ign:6 https://developer.download.nvidia.com/compute/machine-learning/repos/ubuntu1804/x86_64  InRelease\n",
            "Hit:7 https://developer.download.nvidia.com/compute/machine-learning/repos/ubuntu1804/x86_64  Release\n",
            "Get:8 http://archive.ubuntu.com/ubuntu bionic-backports InRelease [74.6 kB]\n",
            "Get:9 https://cloud.r-project.org/bin/linux/ubuntu bionic-cran40/ InRelease [3,626 B]\n",
            "Hit:10 http://ppa.launchpad.net/cran/libgit2/ubuntu bionic InRelease\n",
            "Get:11 http://ppa.launchpad.net/deadsnakes/ppa/ubuntu bionic InRelease [15.9 kB]\n",
            "Get:12 http://ppa.launchpad.net/graphics-drivers/ppa/ubuntu bionic InRelease [21.3 kB]\n",
            "Get:13 http://security.ubuntu.com/ubuntu bionic-security/restricted amd64 Packages [956 kB]\n",
            "Get:14 https://developer.download.nvidia.com/compute/cuda/repos/ubuntu1804/x86_64  Packages [787 kB]\n",
            "Get:15 http://security.ubuntu.com/ubuntu bionic-security/universe amd64 Packages [1,507 kB]\n",
            "Get:16 http://security.ubuntu.com/ubuntu bionic-security/main amd64 Packages [2,796 kB]\n",
            "Get:17 http://security.ubuntu.com/ubuntu bionic-security/multiverse amd64 Packages [22.8 kB]\n",
            "Get:18 http://archive.ubuntu.com/ubuntu bionic-updates/universe amd64 Packages [2,284 kB]\n",
            "Get:19 http://archive.ubuntu.com/ubuntu bionic-updates/restricted amd64 Packages [991 kB]\n",
            "Get:20 http://archive.ubuntu.com/ubuntu bionic-updates/main amd64 Packages [3,231 kB]\n",
            "Get:21 http://archive.ubuntu.com/ubuntu bionic-updates/multiverse amd64 Packages [29.8 kB]\n",
            "Get:23 http://ppa.launchpad.net/c2d4u.team/c2d4u4.0+/ubuntu bionic/main Sources [1,990 kB]\n",
            "Get:24 http://ppa.launchpad.net/c2d4u.team/c2d4u4.0+/ubuntu bionic/main amd64 Packages [1,021 kB]\n",
            "Get:25 http://ppa.launchpad.net/deadsnakes/ppa/ubuntu bionic/main amd64 Packages [45.3 kB]\n",
            "Get:26 http://ppa.launchpad.net/graphics-drivers/ppa/ubuntu bionic/main amd64 Packages [44.3 kB]\n",
            "Fetched 16.0 MB in 5s (3,235 kB/s)\n",
            "Reading package lists... Done\n",
            "Reading package lists... Done\n",
            "Building dependency tree       \n",
            "Reading state information... Done\n",
            "The following package was automatically installed and is no longer required:\n",
            "  libnvidia-common-460\n",
            "Use 'apt autoremove' to remove it.\n",
            "The following additional packages will be installed:\n",
            "  chromium-browser chromium-browser-l10n chromium-codecs-ffmpeg-extra\n",
            "Suggested packages:\n",
            "  webaccounts-chromium-extension unity-chromium-extension\n",
            "The following NEW packages will be installed:\n",
            "  chromium-browser chromium-browser-l10n chromium-chromedriver\n",
            "  chromium-codecs-ffmpeg-extra\n",
            "0 upgraded, 4 newly installed, 0 to remove and 75 not upgraded.\n",
            "Need to get 89.8 MB of archives.\n",
            "After this operation, 302 MB of additional disk space will be used.\n",
            "Get:1 http://archive.ubuntu.com/ubuntu bionic-updates/universe amd64 chromium-codecs-ffmpeg-extra amd64 101.0.4951.64-0ubuntu0.18.04.1 [1,142 kB]\n",
            "Get:2 http://archive.ubuntu.com/ubuntu bionic-updates/universe amd64 chromium-browser amd64 101.0.4951.64-0ubuntu0.18.04.1 [78.5 MB]\n",
            "Get:3 http://archive.ubuntu.com/ubuntu bionic-updates/universe amd64 chromium-browser-l10n all 101.0.4951.64-0ubuntu0.18.04.1 [4,980 kB]\n",
            "Get:4 http://archive.ubuntu.com/ubuntu bionic-updates/universe amd64 chromium-chromedriver amd64 101.0.4951.64-0ubuntu0.18.04.1 [5,153 kB]\n",
            "Fetched 89.8 MB in 2s (43.6 MB/s)\n",
            "Selecting previously unselected package chromium-codecs-ffmpeg-extra.\n",
            "(Reading database ... 155629 files and directories currently installed.)\n",
            "Preparing to unpack .../chromium-codecs-ffmpeg-extra_101.0.4951.64-0ubuntu0.18.04.1_amd64.deb ...\n",
            "Unpacking chromium-codecs-ffmpeg-extra (101.0.4951.64-0ubuntu0.18.04.1) ...\n",
            "Selecting previously unselected package chromium-browser.\n",
            "Preparing to unpack .../chromium-browser_101.0.4951.64-0ubuntu0.18.04.1_amd64.deb ...\n",
            "Unpacking chromium-browser (101.0.4951.64-0ubuntu0.18.04.1) ...\n",
            "Selecting previously unselected package chromium-browser-l10n.\n",
            "Preparing to unpack .../chromium-browser-l10n_101.0.4951.64-0ubuntu0.18.04.1_all.deb ...\n",
            "Unpacking chromium-browser-l10n (101.0.4951.64-0ubuntu0.18.04.1) ...\n",
            "Selecting previously unselected package chromium-chromedriver.\n",
            "Preparing to unpack .../chromium-chromedriver_101.0.4951.64-0ubuntu0.18.04.1_amd64.deb ...\n",
            "Unpacking chromium-chromedriver (101.0.4951.64-0ubuntu0.18.04.1) ...\n",
            "Setting up chromium-codecs-ffmpeg-extra (101.0.4951.64-0ubuntu0.18.04.1) ...\n",
            "Setting up chromium-browser (101.0.4951.64-0ubuntu0.18.04.1) ...\n",
            "update-alternatives: using /usr/bin/chromium-browser to provide /usr/bin/x-www-browser (x-www-browser) in auto mode\n",
            "update-alternatives: using /usr/bin/chromium-browser to provide /usr/bin/gnome-www-browser (gnome-www-browser) in auto mode\n",
            "Setting up chromium-chromedriver (101.0.4951.64-0ubuntu0.18.04.1) ...\n",
            "Setting up chromium-browser-l10n (101.0.4951.64-0ubuntu0.18.04.1) ...\n",
            "Processing triggers for man-db (2.8.3-2ubuntu0.1) ...\n",
            "Processing triggers for hicolor-icon-theme (0.17-2) ...\n",
            "Processing triggers for mime-support (3.60ubuntu1) ...\n",
            "Processing triggers for libc-bin (2.27-3ubuntu1.3) ...\n",
            "/sbin/ldconfig.real: /usr/local/lib/python3.7/dist-packages/ideep4py/lib/libmkldnn.so.0 is not a symbolic link\n",
            "\n",
            "cp: '/usr/lib/chromium-browser/chromedriver' and '/usr/bin/chromedriver' are the same file\n"
          ]
        }
      ]
    },
    {
      "cell_type": "code",
      "source": [
        "from PIL import Image\n",
        "import time\n",
        "import requests\n",
        "import os\n",
        "import io\n",
        "import hashlib"
      ],
      "metadata": {
        "id": "sA2TYHQPBg9U",
        "colab": {
          "base_uri": "https://localhost:8080/"
        },
        "outputId": "08890bda-c340-47f9-85cf-355c369e5d05"
      },
      "execution_count": null,
      "outputs": [
        {
          "output_type": "stream",
          "name": "stderr",
          "text": [
            "/usr/local/lib/python3.7/dist-packages/requests/__init__.py:91: RequestsDependencyWarning: urllib3 (1.26.9) or chardet (3.0.4) doesn't match a supported version!\n",
            "  RequestsDependencyWarning)\n"
          ]
        }
      ]
    },
    {
      "cell_type": "code",
      "source": [
        "def fetch_image_urls(query:str, max_links_to_fetch:int, wd:webdriver, sleep_between_interactions:int=1):\n",
        "    def scroll_to_end(wd):\n",
        "        wd.execute_script(\"window.scrollTo(0, document.body.scrollHeight);\")\n",
        "        time.sleep(sleep_between_interactions)\n",
        "\n",
        "    # build the google query\n",
        "    search_url = \"https://www.google.com/search?safe=off&site=&tbm=isch&source=hp&q={q}&oq={q}&gs_l=img\"\n",
        "\n",
        "    # load the page\n",
        "    wd.get(search_url.format(q=query))\n",
        "\n",
        "    image_urls = set()\n",
        "    image_count = 0\n",
        "    results_start = 0\n",
        "    while image_count < max_links_to_fetch:\n",
        "        scroll_to_end(wd)\n",
        "\n",
        "        # get all image thumbnail results\n",
        "        thumbnail_results = wd.find_elements_by_css_selector(\"img.Q4LuWd\")\n",
        "        number_results = len(thumbnail_results)\n",
        "\n",
        "        print(f\"Found: {number_results} search results. Extracting links from {results_start}:{number_results}\")\n",
        "\n",
        "        for img in thumbnail_results[results_start:number_results]:\n",
        "            # try to click every thumbnail such that we can get the real image behind it\n",
        "            try:\n",
        "                img.click()\n",
        "                time.sleep(sleep_between_interactions)\n",
        "            except Exception:\n",
        "                continue\n",
        "\n",
        "            # extract image urls\n",
        "            actual_images = wd.find_elements_by_css_selector('img.n3VNCb')\n",
        "            for actual_image in actual_images:\n",
        "                if actual_image.get_attribute('src') and 'http' in actual_image.get_attribute('src'):\n",
        "                    image_urls.add(actual_image.get_attribute('src'))\n",
        "\n",
        "            image_count = len(image_urls)\n",
        "\n",
        "            if len(image_urls) >= max_links_to_fetch:\n",
        "                print(f\"Found: {len(image_urls)} image links, done!\")\n",
        "                break\n",
        "        else:\n",
        "            print(\"Found:\", len(image_urls), \"image links, looking for more ...\")\n",
        "            time.sleep(30)\n",
        "            return\n",
        "            load_more_button = wd.find_element_by_css_selector(\".mye4qd\")\n",
        "            if load_more_button:\n",
        "                wd.execute_script(\"document.querySelector('.mye4qd').click();\")\n",
        "\n",
        "        # move the result startpoint further down\n",
        "        results_start = len(thumbnail_results)\n",
        "\n",
        "    return image_urls"
      ],
      "metadata": {
        "id": "TdXJONVuBXPD"
      },
      "execution_count": null,
      "outputs": []
    },
    {
      "cell_type": "code",
      "source": [
        "def persist_image(folder_path:str,url:str):\n",
        "    try:\n",
        "        image_content = requests.get(url).content\n",
        "\n",
        "    except Exception as e:\n",
        "        print(f\"ERROR - Could not download {url} - {e}\")\n",
        "\n",
        "    try:\n",
        "        image_file = io.BytesIO(image_content)\n",
        "        image = Image.open(image_file).convert('RGB')\n",
        "        file_path = os.path.join(folder_path,hashlib.sha1(image_content).hexdigest()[:10] + '.jpg')\n",
        "        with open(file_path, 'wb') as f:\n",
        "            image.save(f, \"JPEG\", quality=85)\n",
        "        print(f\"SUCCESS - saved {url} - as {file_path}\")\n",
        "    except Exception as e:\n",
        "        print(f\"ERROR - Could not save {url} - {e}\")"
      ],
      "metadata": {
        "id": "utTMvcH4BXw4"
      },
      "execution_count": null,
      "outputs": []
    },
    {
      "cell_type": "code",
      "execution_count": null,
      "metadata": {
        "id": "U2xpjrYiBKVB"
      },
      "outputs": [],
      "source": [
        "def search_and_download(search_term:str, number_images:int, chrome_options:str,target_path='./images'):\n",
        "    target_folder = os.path.join(target_path,'_'.join(search_term.lower().split(' ')))\n",
        "\n",
        "    if not os.path.exists(target_folder):\n",
        "        os.makedirs(target_folder)\n",
        "\n",
        "    with webdriver.Chrome('chromedriver',options=chrome_options) as wd:\n",
        "        res = fetch_image_urls(search_term, number_images, wd=wd, sleep_between_interactions=0.5)\n",
        "\n",
        "    for elem in res:\n",
        "        persist_image(target_folder,elem)"
      ]
    },
    {
      "cell_type": "code",
      "source": [
        "# remarks: repeated image got downloaded on every iteration\n",
        "search_and_download(\n",
        "    search_term = 'metal waste',\n",
        "    number_images = 36,\n",
        "    chrome_options = chrome_options\n",
        ")"
      ],
      "metadata": {
        "colab": {
          "base_uri": "https://localhost:8080/"
        },
        "id": "OVGrIE7kDcpR",
        "outputId": "993c8077-56cc-453b-bd65-2b9148c7541b"
      },
      "execution_count": null,
      "outputs": [
        {
          "output_type": "stream",
          "name": "stderr",
          "text": [
            "/usr/local/lib/python3.7/dist-packages/ipykernel_launcher.py:19: DeprecationWarning: find_elements_by_css_selector is deprecated. Please use find_elements(by=By.CSS_SELECTOR, value=css_selector) instead\n"
          ]
        },
        {
          "output_type": "stream",
          "name": "stdout",
          "text": [
            "Found: 100 search results. Extracting links from 0:100\n"
          ]
        },
        {
          "output_type": "stream",
          "name": "stderr",
          "text": [
            "/usr/local/lib/python3.7/dist-packages/ipykernel_launcher.py:33: DeprecationWarning: find_elements_by_css_selector is deprecated. Please use find_elements(by=By.CSS_SELECTOR, value=css_selector) instead\n"
          ]
        },
        {
          "output_type": "stream",
          "name": "stdout",
          "text": [
            "Found: 36 image links, done!\n",
            "SUCCESS - saved https://www.rubicon.com/wp-content/uploads/2021/06/ferrous-and-non-ferrous-metals.jpg - as ./images/metal_waste/3720c7d6c0.jpg\n",
            "SUCCESS - saved http://admin.acceleratingscience.com/metals/wp-content/uploads/sites/4/2018/07/istock-147698251_scrapmetalcubes-1.jpg - as ./images/metal_waste/85d8c259c1.jpg\n",
            "SUCCESS - saved https://www.belsonsteel.com/wp-content/uploads/2020/03/AdobeStock_264863308.jpg - as ./images/metal_waste/40b50a9a20.jpg\n",
            "SUCCESS - saved https://encrypted-tbn0.gstatic.com/images?q=tbn:ANd9GcTaWZcYlLu2wOEXznts3vmfVFPSmCy1vcZWHg&usqp=CAU - as ./images/metal_waste/d57bcbc046.jpg\n",
            "SUCCESS - saved https://encrypted-tbn0.gstatic.com/images?q=tbn:ANd9GcQIKy9qcN2ELJnFHcN3fIOQmuhffS2KcJ528g&usqp=CAU - as ./images/metal_waste/e96c51dc4f.jpg\n",
            "SUCCESS - saved https://encrypted-tbn0.gstatic.com/images?q=tbn:ANd9GcSHM-lAkzt3Po6baWdVuoQSbPECD-CUWyjE_g&usqp=CAU - as ./images/metal_waste/f3e5245b44.jpg\n",
            "SUCCESS - saved https://www.jdogjunkremoval.com/wp-content/uploads/2019/04/scrapmetal.jpg - as ./images/metal_waste/6a70e58699.jpg\n",
            "SUCCESS - saved https://encrypted-tbn0.gstatic.com/images?q=tbn:ANd9GcTie7UL53NmlWab9KPKULDNZgIQpEX9HKYPzA&usqp=CAU - as ./images/metal_waste/7f3699a1dc.jpg\n",
            "SUCCESS - saved https://encrypted-tbn0.gstatic.com/images?q=tbn:ANd9GcRPxQHcY6dfYipZUlOgE8p9TXoRFGWusNSDnQ&usqp=CAU - as ./images/metal_waste/5d32a25e74.jpg\n",
            "SUCCESS - saved https://route34upullm.com/wp-content/themes/upullm/images/scrap1.jpg - as ./images/metal_waste/9008d4335f.jpg\n",
            "SUCCESS - saved https://www.jdogjunkremoval.com/wp-content/uploads/2020/01/scrap-metal.jpg - as ./images/metal_waste/7c0eb7f41c.jpg\n",
            "SUCCESS - saved https://1dmx3j9s5ex6ub8i2s4ql15l-wpengine.netdna-ssl.com/wp-content/uploads/sites/3/2018/04/metal-scrap-12.png - as ./images/metal_waste/2c4de233b2.jpg\n",
            "SUCCESS - saved https://encrypted-tbn0.gstatic.com/images?q=tbn:ANd9GcRhmmpcnfNe7lv8vg_PhbiU_OJH2Tl5QkpiYQ&usqp=CAU - as ./images/metal_waste/b05e2453c7.jpg\n",
            "ERROR - Could not save https://glescrap.com/wp-content/uploads/2020/04/Best-Scrap-Metal-Tools-From-GLE-Scrap.jpg - cannot identify image file <_io.BytesIO object at 0x7fb53982a230>\n",
            "SUCCESS - saved https://encrypted-tbn0.gstatic.com/images?q=tbn:ANd9GcTCWtw4fvjykmxQNXtzqNZhW_-BLOWG5hWJ7g&usqp=CAU - as ./images/metal_waste/f6bb88435f.jpg\n",
            "ERROR - Could not save https://qmag.com/wp-content/uploads/qmag_scrap_metal_recycling-770x511.jpg - cannot identify image file <_io.BytesIO object at 0x7fb53982a230>\n",
            "SUCCESS - saved https://www.jdogjunkremoval.com/wp-content/uploads/2018/03/scrapmetal-540x540.jpg - as ./images/metal_waste/e852ed2b46.jpg\n",
            "ERROR - Could not save https://glescrap.com/wp-content/uploads/2017/03/Crushed-cars-photo-1024x684.jpg - cannot identify image file <_io.BytesIO object at 0x7fb53982a230>\n",
            "SUCCESS - saved https://image.shutterstock.com/image-photo/empty-metal-cans-waiting-on-260nw-175414070.jpg - as ./images/metal_waste/ce60828496.jpg\n",
            "SUCCESS - saved https://encrypted-tbn0.gstatic.com/images?q=tbn:ANd9GcTo8YgEW6KrKdKEbf5Wx7dnW1mb3aV7SgmXWA&usqp=CAU - as ./images/metal_waste/e2a01f3d36.jpg\n",
            "SUCCESS - saved https://images.squarespace-cdn.com/content/v1/5452d441e4b0c188b51fef1a/1543873782194-9M78TTQBTZZI29UCO7OT/scrap+metal.jpg - as ./images/metal_waste/ea0a7a40bf.jpg\n",
            "SUCCESS - saved https://encrypted-tbn0.gstatic.com/images?q=tbn:ANd9GcTJmmnABbx6JkT-AqSldbUGD3Bf8FbcX5lZmg&usqp=CAU - as ./images/metal_waste/e8e612a146.jpg\n",
            "SUCCESS - saved https://info.junk-king.com/hs-fs/hubfs/Depositphotos_153442314_s-2019.jpg?width=1000&name=Depositphotos_153442314_s-2019.jpg - as ./images/metal_waste/9e6df13d32.jpg\n",
            "ERROR - Could not save https://www.scrapware.com/wp-content/uploads/2020/09/We-All-Benefit-from-Metal-Recycling-1-1024x768.jpg - cannot identify image file <_io.BytesIO object at 0x7fb539835a10>\n",
            "SUCCESS - saved https://www.thebalancesmb.com/thmb/OsQt2V5D6YoqDLh7wrkOeVeLBXE=/3264x1836/filters:fill(auto,1)/GettyImages-678449073-58161f435f9b581c0bfddacc.jpg - as ./images/metal_waste/9526e2a666.jpg\n",
            "ERROR - Could not save https://earth911.com/wp-content/uploads/2020/04/AdobeStock_334581880-1.jpeg - cannot identify image file <_io.BytesIO object at 0x7fb539835a10>\n",
            "SUCCESS - saved https://www.wilton-recycling.ie/wp-content/uploads/2019/05/Wilton-Waste-Scrap-Metal-Introduction-Part-1-Image.jpg - as ./images/metal_waste/9de8c2d445.jpg\n",
            "SUCCESS - saved https://encrypted-tbn0.gstatic.com/images?q=tbn:ANd9GcROvnBGSin9-QcemF-NlR25kynnM55MuK_h3A&usqp=CAU - as ./images/metal_waste/7f92d41a92.jpg\n",
            "SUCCESS - saved https://www.conserve-energy-future.com/wp-content/uploads/2013/01/metal-recycling.jpg - as ./images/metal_waste/fe42c537e2.jpg\n",
            "SUCCESS - saved https://encrypted-tbn0.gstatic.com/images?q=tbn:ANd9GcTRHH3mvidkCZ4Nr1Jq5PtgiXGv90U6srHOpQ&usqp=CAU - as ./images/metal_waste/db6f03c07b.jpg\n",
            "ERROR - Could not save https://www.asm-recycling.co.uk/image/fit-400/images/scrap_metal.jpg - cannot identify image file <_io.BytesIO object at 0x7fb53983aa10>\n",
            "SUCCESS - saved https://global-recycling.info/wp-content/uploads/2021/06/Scrap-Metal-Recycling-221.jpg - as ./images/metal_waste/7fed469ff5.jpg\n",
            "SUCCESS - saved https://www.thermofisher.com/blog/wp-content/uploads/sites/4/2017/04/istock-533447216_scrapmetalyard.jpg - as ./images/metal_waste/b96f011f66.jpg\n",
            "SUCCESS - saved https://encrypted-tbn0.gstatic.com/images?q=tbn:ANd9GcQTAt55x6WaZMsZPxOPx6dkekL4djFxeEnyPA&usqp=CAU - as ./images/metal_waste/abf4c2d671.jpg\n",
            "SUCCESS - saved https://media.istockphoto.com/photos/metal-cans-and-tins-prepared-for-recycling-picture-id491962627?k=20&m=491962627&s=612x612&w=0&h=fnOmb8wlxvPhEpUwGV83vfSjvnPImvRMDGx9sUpGq3w= - as ./images/metal_waste/eec0594c86.jpg\n",
            "SUCCESS - saved https://media.istockphoto.com/photos/old-rusty-corroded-car-parts-in-car-scrapyard-car-recyclingwrecking-picture-id868926884?k=20&m=868926884&s=612x612&w=0&h=j_QF8vxPZypH1ppPJuJbD7WkeKZ8qgRtfOMV-2rr94o= - as ./images/metal_waste/81ed61eddc.jpg\n"
          ]
        }
      ]
    },
    {
      "cell_type": "code",
      "source": [
        "# download file from colab to local\n",
        "!zip -r ./zipped_files/metal_waste.zip ./images/metal_waste\n",
        "\n",
        "from google.colab import files\n",
        "files.download('./zipped_files/metal_waste.zip')"
      ],
      "metadata": {
        "colab": {
          "base_uri": "https://localhost:8080/",
          "height": 555
        },
        "id": "L7QX1KN3Gcga",
        "outputId": "dac2bf59-2bb1-424b-dfcc-dad3f951bec4"
      },
      "execution_count": null,
      "outputs": [
        {
          "output_type": "stream",
          "name": "stdout",
          "text": [
            "  adding: images/metal_waste/ (stored 0%)\n",
            "  adding: images/metal_waste/6a70e58699.jpg (deflated 0%)\n",
            "  adding: images/metal_waste/e852ed2b46.jpg (deflated 0%)\n",
            "  adding: images/metal_waste/9526e2a666.jpg (deflated 0%)\n",
            "  adding: images/metal_waste/d57bcbc046.jpg (deflated 3%)\n",
            "  adding: images/metal_waste/f3e5245b44.jpg (deflated 2%)\n",
            "  adding: images/metal_waste/e8e612a146.jpg (deflated 2%)\n",
            "  adding: images/metal_waste/7f3699a1dc.jpg (deflated 3%)\n",
            "  adding: images/metal_waste/e96c51dc4f.jpg (deflated 1%)\n",
            "  adding: images/metal_waste/5d32a25e74.jpg (deflated 2%)\n",
            "  adding: images/metal_waste/ea0a7a40bf.jpg (deflated 1%)\n",
            "  adding: images/metal_waste/fe42c537e2.jpg (deflated 2%)\n",
            "  adding: images/metal_waste/85d8c259c1.jpg (deflated 0%)\n",
            "  adding: images/metal_waste/abf4c2d671.jpg (deflated 2%)\n",
            "  adding: images/metal_waste/3720c7d6c0.jpg (deflated 1%)\n",
            "  adding: images/metal_waste/b05e2453c7.jpg (deflated 3%)\n",
            "  adding: images/metal_waste/ce60828496.jpg (deflated 3%)\n",
            "  adding: images/metal_waste/eec0594c86.jpg (deflated 3%)\n",
            "  adding: images/metal_waste/81ed61eddc.jpg (deflated 3%)\n",
            "  adding: images/metal_waste/e2a01f3d36.jpg (deflated 2%)\n",
            "  adding: images/metal_waste/9e6df13d32.jpg (deflated 0%)\n",
            "  adding: images/metal_waste/b96f011f66.jpg (deflated 0%)\n",
            "  adding: images/metal_waste/2c4de233b2.jpg (deflated 0%)\n",
            "  adding: images/metal_waste/40b50a9a20.jpg (deflated 0%)\n",
            "  adding: images/metal_waste/7f92d41a92.jpg (deflated 2%)\n",
            "  adding: images/metal_waste/9008d4335f.jpg (deflated 0%)\n",
            "  adding: images/metal_waste/9de8c2d445.jpg (deflated 0%)\n",
            "  adding: images/metal_waste/f6bb88435f.jpg (deflated 2%)\n",
            "  adding: images/metal_waste/db6f03c07b.jpg (deflated 4%)\n",
            "  adding: images/metal_waste/7fed469ff5.jpg (deflated 0%)\n",
            "  adding: images/metal_waste/7c0eb7f41c.jpg (deflated 0%)\n"
          ]
        },
        {
          "output_type": "display_data",
          "data": {
            "text/plain": [
              "<IPython.core.display.Javascript object>"
            ],
            "application/javascript": [
              "\n",
              "    async function download(id, filename, size) {\n",
              "      if (!google.colab.kernel.accessAllowed) {\n",
              "        return;\n",
              "      }\n",
              "      const div = document.createElement('div');\n",
              "      const label = document.createElement('label');\n",
              "      label.textContent = `Downloading \"${filename}\": `;\n",
              "      div.appendChild(label);\n",
              "      const progress = document.createElement('progress');\n",
              "      progress.max = size;\n",
              "      div.appendChild(progress);\n",
              "      document.body.appendChild(div);\n",
              "\n",
              "      const buffers = [];\n",
              "      let downloaded = 0;\n",
              "\n",
              "      const channel = await google.colab.kernel.comms.open(id);\n",
              "      // Send a message to notify the kernel that we're ready.\n",
              "      channel.send({})\n",
              "\n",
              "      for await (const message of channel.messages) {\n",
              "        // Send a message to notify the kernel that we're ready.\n",
              "        channel.send({})\n",
              "        if (message.buffers) {\n",
              "          for (const buffer of message.buffers) {\n",
              "            buffers.push(buffer);\n",
              "            downloaded += buffer.byteLength;\n",
              "            progress.value = downloaded;\n",
              "          }\n",
              "        }\n",
              "      }\n",
              "      const blob = new Blob(buffers, {type: 'application/binary'});\n",
              "      const a = document.createElement('a');\n",
              "      a.href = window.URL.createObjectURL(blob);\n",
              "      a.download = filename;\n",
              "      div.appendChild(a);\n",
              "      a.click();\n",
              "      div.remove();\n",
              "    }\n",
              "  "
            ]
          },
          "metadata": {}
        },
        {
          "output_type": "display_data",
          "data": {
            "text/plain": [
              "<IPython.core.display.Javascript object>"
            ],
            "application/javascript": [
              "download(\"download_20cb0ecd-becc-4707-be60-e60a7f7f52bb\", \"metal_waste.zip\", 5387941)"
            ]
          },
          "metadata": {}
        }
      ]
    }
  ]
}