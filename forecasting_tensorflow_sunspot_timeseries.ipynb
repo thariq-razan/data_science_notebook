{
  "nbformat": 4,
  "nbformat_minor": 0,
  "metadata": {
    "colab": {
      "provenance": []
    },
    "kernelspec": {
      "name": "python3",
      "display_name": "Python 3"
    },
    "language_info": {
      "name": "python"
    }
  },
  "cells": [
    {
      "cell_type": "markdown",
      "source": [
        "**Objective**:\n",
        "- create a model that could predict sunspots based on timeseries historical data\n",
        "- desired MAE is < 0.15 using the normalized dataset"
      ],
      "metadata": {
        "id": "XJe5MfwZN5fJ"
      }
    },
    {
      "cell_type": "markdown",
      "source": [
        "**Further reading**: https://medium.com/analytics-vidhya/time-series-forecasting-using-tensorflow-rkt109-ea858d8e49c6"
      ],
      "metadata": {
        "id": "ehOd4MMfH8dl"
      }
    },
    {
      "cell_type": "markdown",
      "source": [
        "# Data Preparation"
      ],
      "metadata": {
        "id": "GX_vjDKFHY_i"
      }
    },
    {
      "cell_type": "code",
      "source": [
        "# set up useful libraries\n",
        "import urllib\n",
        "import csv\n",
        "import numpy as np\n",
        "import tensorflow as tf\n",
        "import matplotlib.pyplot as plt"
      ],
      "metadata": {
        "id": "46fr-K87Hoss"
      },
      "execution_count": 10,
      "outputs": []
    },
    {
      "cell_type": "code",
      "source": [
        "# retrieve online data and save it into a csv file\n",
        "data_url = 'https://github.com/dicodingacademy/assets/raw/main/Simulation/machine_learning/sunspots.csv'\n",
        "urllib.request.urlretrieve(data_url, 'sunspots.csv')\n",
        "\n",
        "# load the data into a list (dataset)\n",
        "sunspots = []\n",
        "time_step = []\n",
        "with open('sunspots.csv') as csvfile:\n",
        "  reader = csv.reader(csvfile, delimiter=',')\n",
        "  next(reader)\n",
        "  for row in reader:\n",
        "    sunspots.append(float(row[2]))\n",
        "    time_step.append(int(row[0]))\n",
        "\n",
        "# verifying\n",
        "print(\"retrieved sunspots data collection has a length of: {}\".format(len(sunspots)))\n",
        "print(\"retrieved time_step data collection has a length of: {}\".format(len(time_step)))"
      ],
      "metadata": {
        "colab": {
          "base_uri": "https://localhost:8080/"
        },
        "id": "x94xrDBPHazZ",
        "outputId": "c044d631-5d55-4865-d4c1-ebb57bdffce9"
      },
      "execution_count": 2,
      "outputs": [
        {
          "output_type": "stream",
          "name": "stdout",
          "text": [
            "retrieved sunspots data collection has a length of: 3265\n",
            "retrieved time_step data collection has a length of: 3265\n"
          ]
        }
      ]
    },
    {
      "cell_type": "code",
      "source": [
        "# prepare the \"time\" and \"series\" dataset\n",
        "time = np.array(time_step)\n",
        "series = np.array(sunspots)\n",
        "\n",
        "# conduct min-max normalization to the series\n",
        "min = np.min(series)\n",
        "max = np.max(series)\n",
        "series -= min\n",
        "series /= max\n",
        "\n",
        "# split the dataset for training & validation purpose\n",
        "n_split = 3000\n",
        "time_train = time[:n_split]\n",
        "x_train = series[:n_split]\n",
        "time_valid = time[n_split:]\n",
        "x_valid = series[n_split:]"
      ],
      "metadata": {
        "id": "VRqnvKLTJyBW"
      },
      "execution_count": 3,
      "outputs": []
    },
    {
      "cell_type": "code",
      "source": [
        "# function to create a windowed dataset\n",
        "def windowed_dataset(series, window_size, batch_size, shuffle_buffer):\n",
        "  series = tf.expand_dims(series, axis=-1)\n",
        "  ds = tf.data.Dataset.from_tensor_slices(series)\n",
        "  ds = ds.window(window_size + 1, shift=1, drop_remainder=True)\n",
        "  ds = ds.flat_map(lambda w: w.batch(window_size + 1))\n",
        "  ds = ds.shuffle(shuffle_buffer)\n",
        "  ds = ds.map(lambda w: (w[:-1], w[1:]))\n",
        "  return ds.batch(batch_size).prefetch(1)"
      ],
      "metadata": {
        "id": "YSDfMDwBLnnc"
      },
      "execution_count": 4,
      "outputs": []
    },
    {
      "cell_type": "markdown",
      "source": [
        "# Modeling"
      ],
      "metadata": {
        "id": "EZq9oO0dJwWn"
      }
    },
    {
      "cell_type": "code",
      "source": [
        "# create a windowed dataset to train the model\n",
        "window_size = 30\n",
        "batch_size = 32\n",
        "shuffle_buffer_size = 1000\n",
        "train_set_windowed = windowed_dataset(x_train, window_size=window_size, batch_size=batch_size,shuffle_buffer=shuffle_buffer_size)"
      ],
      "metadata": {
        "id": "IYSHkgC2LpwS"
      },
      "execution_count": 5,
      "outputs": []
    },
    {
      "cell_type": "code",
      "source": [
        "# define the model\n",
        "model = tf.keras.models.Sequential([\n",
        "    tf.keras.layers.Conv1D(filters=64, kernel_size=3,\n",
        "                           strides=1,\n",
        "                           activation=\"relu\",\n",
        "                           padding='causal',\n",
        "                           input_shape=[window_size, 1]),\n",
        "    tf.keras.layers.LSTM(64, return_sequences=True),\n",
        "    tf.keras.layers.LSTM(64, return_sequences=True),\n",
        "    tf.keras.layers.LSTM(128),\n",
        "    tf.keras.layers.Dense(30, activation=\"relu\"),\n",
        "    tf.keras.layers.Dense(10, activation=\"relu\"),\n",
        "    tf.keras.layers.Dropout(0.5),\n",
        "    tf.keras.layers.Dense(1)\n",
        "    ])\n",
        "\n",
        "model.summary()"
      ],
      "metadata": {
        "colab": {
          "base_uri": "https://localhost:8080/"
        },
        "id": "HOwrlJg6J2fI",
        "outputId": "a694fa8a-14f2-4053-ed9b-95c27fd72e6b"
      },
      "execution_count": 6,
      "outputs": [
        {
          "output_type": "stream",
          "name": "stdout",
          "text": [
            "Model: \"sequential\"\n",
            "_________________________________________________________________\n",
            " Layer (type)                Output Shape              Param #   \n",
            "=================================================================\n",
            " conv1d (Conv1D)             (None, 30, 64)            256       \n",
            "                                                                 \n",
            " lstm (LSTM)                 (None, 30, 64)            33024     \n",
            "                                                                 \n",
            " lstm_1 (LSTM)               (None, 30, 64)            33024     \n",
            "                                                                 \n",
            " lstm_2 (LSTM)               (None, 128)               98816     \n",
            "                                                                 \n",
            " dense (Dense)               (None, 30)                3870      \n",
            "                                                                 \n",
            " dense_1 (Dense)             (None, 10)                310       \n",
            "                                                                 \n",
            " dropout (Dropout)           (None, 10)                0         \n",
            "                                                                 \n",
            " dense_2 (Dense)             (None, 1)                 11        \n",
            "                                                                 \n",
            "=================================================================\n",
            "Total params: 169,311\n",
            "Trainable params: 169,311\n",
            "Non-trainable params: 0\n",
            "_________________________________________________________________\n"
          ]
        }
      ]
    },
    {
      "cell_type": "code",
      "source": [
        "# function to halt a model training process\n",
        "class MyCallback(tf.keras.callbacks.Callback):\n",
        "  def on_epoch_end(self, epoch, logs={}):\n",
        "    if logs.get('mae') < 0.15:\n",
        "      print(\"\\nReached desired metric(s) so cancelling training!\")\n",
        "      self.model.stop_training = True"
      ],
      "metadata": {
        "id": "iAWFkJYFMfX3"
      },
      "execution_count": 7,
      "outputs": []
    },
    {
      "cell_type": "code",
      "source": [
        "# build/compile the model\n",
        "lr_scheduler = tf.keras.callbacks.LearningRateScheduler(lambda epoch: 1e-8 * 10 ** (epoch/20))\n",
        "optimizer = tf.keras.optimizers.SGD(momentum=0.9)\n",
        "model.compile(loss=tf.keras.losses.Huber(),\n",
        "              optimizer=optimizer,\n",
        "              metrics=[\"mae\"])"
      ],
      "metadata": {
        "id": "Khx-cL_gMapt"
      },
      "execution_count": 8,
      "outputs": []
    },
    {
      "cell_type": "code",
      "source": [
        "# train the model\n",
        "history = model.fit(train_set_windowed, epochs=100, callbacks=[MyCallback(), lr_scheduler], verbose=2)"
      ],
      "metadata": {
        "colab": {
          "base_uri": "https://localhost:8080/"
        },
        "id": "7Ce-qVWUMh1R",
        "outputId": "9fe8be48-2a71-466b-b8d9-22bd2a74949e"
      },
      "execution_count": 9,
      "outputs": [
        {
          "output_type": "stream",
          "name": "stdout",
          "text": [
            "Epoch 1/100\n",
            "93/93 - 37s - loss: 0.0373 - mae: 0.2108 - lr: 1.0000e-08 - 37s/epoch - 395ms/step\n",
            "Epoch 2/100\n",
            "93/93 - 8s - loss: 0.0373 - mae: 0.2109 - lr: 1.1220e-08 - 8s/epoch - 86ms/step\n",
            "Epoch 3/100\n",
            "93/93 - 9s - loss: 0.0373 - mae: 0.2109 - lr: 1.2589e-08 - 9s/epoch - 94ms/step\n",
            "Epoch 4/100\n",
            "93/93 - 9s - loss: 0.0374 - mae: 0.2110 - lr: 1.4125e-08 - 9s/epoch - 101ms/step\n",
            "Epoch 5/100\n",
            "93/93 - 9s - loss: 0.0374 - mae: 0.2110 - lr: 1.5849e-08 - 9s/epoch - 100ms/step\n",
            "Epoch 6/100\n",
            "93/93 - 9s - loss: 0.0373 - mae: 0.2108 - lr: 1.7783e-08 - 9s/epoch - 98ms/step\n",
            "Epoch 7/100\n",
            "93/93 - 8s - loss: 0.0374 - mae: 0.2109 - lr: 1.9953e-08 - 8s/epoch - 86ms/step\n",
            "Epoch 8/100\n",
            "93/93 - 8s - loss: 0.0373 - mae: 0.2108 - lr: 2.2387e-08 - 8s/epoch - 91ms/step\n",
            "Epoch 9/100\n",
            "93/93 - 11s - loss: 0.0373 - mae: 0.2108 - lr: 2.5119e-08 - 11s/epoch - 118ms/step\n",
            "Epoch 10/100\n",
            "93/93 - 9s - loss: 0.0372 - mae: 0.2106 - lr: 2.8184e-08 - 9s/epoch - 101ms/step\n",
            "Epoch 11/100\n",
            "93/93 - 8s - loss: 0.0372 - mae: 0.2106 - lr: 3.1623e-08 - 8s/epoch - 87ms/step\n",
            "Epoch 12/100\n",
            "93/93 - 8s - loss: 0.0372 - mae: 0.2107 - lr: 3.5481e-08 - 8s/epoch - 87ms/step\n",
            "Epoch 13/100\n",
            "93/93 - 9s - loss: 0.0373 - mae: 0.2109 - lr: 3.9811e-08 - 9s/epoch - 93ms/step\n",
            "Epoch 14/100\n",
            "93/93 - 9s - loss: 0.0373 - mae: 0.2108 - lr: 4.4668e-08 - 9s/epoch - 100ms/step\n",
            "Epoch 15/100\n",
            "93/93 - 9s - loss: 0.0374 - mae: 0.2109 - lr: 5.0119e-08 - 9s/epoch - 100ms/step\n",
            "Epoch 16/100\n",
            "93/93 - 9s - loss: 0.0374 - mae: 0.2109 - lr: 5.6234e-08 - 9s/epoch - 101ms/step\n",
            "Epoch 17/100\n",
            "93/93 - 8s - loss: 0.0372 - mae: 0.2105 - lr: 6.3096e-08 - 8s/epoch - 87ms/step\n",
            "Epoch 18/100\n",
            "93/93 - 9s - loss: 0.0373 - mae: 0.2107 - lr: 7.0795e-08 - 9s/epoch - 102ms/step\n",
            "Epoch 19/100\n",
            "93/93 - 10s - loss: 0.0373 - mae: 0.2107 - lr: 7.9433e-08 - 10s/epoch - 110ms/step\n",
            "Epoch 20/100\n",
            "93/93 - 9s - loss: 0.0373 - mae: 0.2107 - lr: 8.9125e-08 - 9s/epoch - 100ms/step\n",
            "Epoch 21/100\n",
            "93/93 - 8s - loss: 0.0373 - mae: 0.2106 - lr: 1.0000e-07 - 8s/epoch - 87ms/step\n",
            "Epoch 22/100\n",
            "93/93 - 8s - loss: 0.0372 - mae: 0.2104 - lr: 1.1220e-07 - 8s/epoch - 91ms/step\n",
            "Epoch 23/100\n",
            "93/93 - 9s - loss: 0.0373 - mae: 0.2105 - lr: 1.2589e-07 - 9s/epoch - 101ms/step\n",
            "Epoch 24/100\n",
            "93/93 - 10s - loss: 0.0373 - mae: 0.2104 - lr: 1.4125e-07 - 10s/epoch - 102ms/step\n",
            "Epoch 25/100\n",
            "93/93 - 9s - loss: 0.0372 - mae: 0.2103 - lr: 1.5849e-07 - 9s/epoch - 101ms/step\n",
            "Epoch 26/100\n",
            "93/93 - 8s - loss: 0.0372 - mae: 0.2103 - lr: 1.7783e-07 - 8s/epoch - 86ms/step\n",
            "Epoch 27/100\n",
            "93/93 - 8s - loss: 0.0372 - mae: 0.2102 - lr: 1.9953e-07 - 8s/epoch - 87ms/step\n",
            "Epoch 28/100\n",
            "93/93 - 9s - loss: 0.0372 - mae: 0.2102 - lr: 2.2387e-07 - 9s/epoch - 97ms/step\n",
            "Epoch 29/100\n",
            "93/93 - 9s - loss: 0.0371 - mae: 0.2099 - lr: 2.5119e-07 - 9s/epoch - 102ms/step\n",
            "Epoch 30/100\n",
            "93/93 - 9s - loss: 0.0371 - mae: 0.2098 - lr: 2.8184e-07 - 9s/epoch - 102ms/step\n",
            "Epoch 31/100\n",
            "93/93 - 8s - loss: 0.0370 - mae: 0.2095 - lr: 3.1623e-07 - 8s/epoch - 86ms/step\n",
            "Epoch 32/100\n",
            "93/93 - 9s - loss: 0.0370 - mae: 0.2096 - lr: 3.5481e-07 - 9s/epoch - 99ms/step\n",
            "Epoch 33/100\n",
            "93/93 - 9s - loss: 0.0371 - mae: 0.2095 - lr: 3.9811e-07 - 9s/epoch - 101ms/step\n",
            "Epoch 34/100\n",
            "93/93 - 9s - loss: 0.0370 - mae: 0.2093 - lr: 4.4668e-07 - 9s/epoch - 100ms/step\n",
            "Epoch 35/100\n",
            "93/93 - 8s - loss: 0.0370 - mae: 0.2092 - lr: 5.0119e-07 - 8s/epoch - 87ms/step\n",
            "Epoch 36/100\n",
            "93/93 - 9s - loss: 0.0369 - mae: 0.2089 - lr: 5.6234e-07 - 9s/epoch - 102ms/step\n",
            "Epoch 37/100\n",
            "93/93 - 10s - loss: 0.0368 - mae: 0.2086 - lr: 6.3096e-07 - 10s/epoch - 102ms/step\n",
            "Epoch 38/100\n",
            "93/93 - 8s - loss: 0.0368 - mae: 0.2084 - lr: 7.0795e-07 - 8s/epoch - 88ms/step\n",
            "Epoch 39/100\n",
            "93/93 - 8s - loss: 0.0367 - mae: 0.2080 - lr: 7.9433e-07 - 8s/epoch - 87ms/step\n",
            "Epoch 40/100\n",
            "93/93 - 9s - loss: 0.0366 - mae: 0.2077 - lr: 8.9125e-07 - 9s/epoch - 101ms/step\n",
            "Epoch 41/100\n",
            "93/93 - 9s - loss: 0.0365 - mae: 0.2073 - lr: 1.0000e-06 - 9s/epoch - 101ms/step\n",
            "Epoch 42/100\n",
            "93/93 - 9s - loss: 0.0364 - mae: 0.2069 - lr: 1.1220e-06 - 9s/epoch - 93ms/step\n",
            "Epoch 43/100\n",
            "93/93 - 8s - loss: 0.0364 - mae: 0.2066 - lr: 1.2589e-06 - 8s/epoch - 86ms/step\n",
            "Epoch 44/100\n",
            "93/93 - 9s - loss: 0.0362 - mae: 0.2061 - lr: 1.4125e-06 - 9s/epoch - 100ms/step\n",
            "Epoch 45/100\n",
            "93/93 - 9s - loss: 0.0361 - mae: 0.2056 - lr: 1.5849e-06 - 9s/epoch - 101ms/step\n",
            "Epoch 46/100\n",
            "93/93 - 9s - loss: 0.0360 - mae: 0.2051 - lr: 1.7783e-06 - 9s/epoch - 93ms/step\n",
            "Epoch 47/100\n",
            "93/93 - 8s - loss: 0.0358 - mae: 0.2045 - lr: 1.9953e-06 - 8s/epoch - 86ms/step\n",
            "Epoch 48/100\n",
            "93/93 - 9s - loss: 0.0357 - mae: 0.2038 - lr: 2.2387e-06 - 9s/epoch - 93ms/step\n",
            "Epoch 49/100\n",
            "93/93 - 10s - loss: 0.0354 - mae: 0.2028 - lr: 2.5119e-06 - 10s/epoch - 102ms/step\n",
            "Epoch 50/100\n",
            "93/93 - 9s - loss: 0.0352 - mae: 0.2019 - lr: 2.8184e-06 - 9s/epoch - 100ms/step\n",
            "Epoch 51/100\n",
            "93/93 - 8s - loss: 0.0350 - mae: 0.2010 - lr: 3.1623e-06 - 8s/epoch - 86ms/step\n",
            "Epoch 52/100\n",
            "93/93 - 9s - loss: 0.0348 - mae: 0.2001 - lr: 3.5481e-06 - 9s/epoch - 96ms/step\n",
            "Epoch 53/100\n",
            "93/93 - 9s - loss: 0.0346 - mae: 0.1992 - lr: 3.9811e-06 - 9s/epoch - 100ms/step\n",
            "Epoch 54/100\n",
            "93/93 - 9s - loss: 0.0343 - mae: 0.1980 - lr: 4.4668e-06 - 9s/epoch - 101ms/step\n",
            "Epoch 55/100\n",
            "93/93 - 8s - loss: 0.0339 - mae: 0.1967 - lr: 5.0119e-06 - 8s/epoch - 89ms/step\n",
            "Epoch 56/100\n",
            "93/93 - 8s - loss: 0.0336 - mae: 0.1952 - lr: 5.6234e-06 - 8s/epoch - 87ms/step\n",
            "Epoch 57/100\n",
            "93/93 - 9s - loss: 0.0332 - mae: 0.1938 - lr: 6.3096e-06 - 9s/epoch - 93ms/step\n",
            "Epoch 58/100\n",
            "93/93 - 9s - loss: 0.0328 - mae: 0.1920 - lr: 7.0795e-06 - 9s/epoch - 101ms/step\n",
            "Epoch 59/100\n",
            "93/93 - 9s - loss: 0.0324 - mae: 0.1904 - lr: 7.9433e-06 - 9s/epoch - 100ms/step\n",
            "Epoch 60/100\n",
            "93/93 - 8s - loss: 0.0320 - mae: 0.1884 - lr: 8.9125e-06 - 8s/epoch - 90ms/step\n",
            "Epoch 61/100\n",
            "93/93 - 8s - loss: 0.0316 - mae: 0.1869 - lr: 1.0000e-05 - 8s/epoch - 86ms/step\n",
            "Epoch 62/100\n",
            "93/93 - 9s - loss: 0.0312 - mae: 0.1850 - lr: 1.1220e-05 - 9s/epoch - 93ms/step\n",
            "Epoch 63/100\n",
            "93/93 - 9s - loss: 0.0305 - mae: 0.1826 - lr: 1.2589e-05 - 9s/epoch - 101ms/step\n",
            "Epoch 64/100\n",
            "93/93 - 9s - loss: 0.0298 - mae: 0.1797 - lr: 1.4125e-05 - 9s/epoch - 102ms/step\n",
            "Epoch 65/100\n",
            "93/93 - 8s - loss: 0.0293 - mae: 0.1778 - lr: 1.5849e-05 - 8s/epoch - 88ms/step\n",
            "Epoch 66/100\n",
            "93/93 - 8s - loss: 0.0285 - mae: 0.1745 - lr: 1.7783e-05 - 8s/epoch - 87ms/step\n",
            "Epoch 67/100\n",
            "93/93 - 9s - loss: 0.0280 - mae: 0.1722 - lr: 1.9953e-05 - 9s/epoch - 102ms/step\n",
            "Epoch 68/100\n",
            "93/93 - 9s - loss: 0.0271 - mae: 0.1691 - lr: 2.2387e-05 - 9s/epoch - 100ms/step\n",
            "Epoch 69/100\n",
            "93/93 - 8s - loss: 0.0264 - mae: 0.1666 - lr: 2.5119e-05 - 8s/epoch - 87ms/step\n",
            "Epoch 70/100\n",
            "93/93 - 8s - loss: 0.0255 - mae: 0.1636 - lr: 2.8184e-05 - 8s/epoch - 86ms/step\n",
            "Epoch 71/100\n",
            "93/93 - 9s - loss: 0.0247 - mae: 0.1605 - lr: 3.1623e-05 - 9s/epoch - 98ms/step\n",
            "Epoch 72/100\n",
            "93/93 - 9s - loss: 0.0239 - mae: 0.1579 - lr: 3.5481e-05 - 9s/epoch - 100ms/step\n",
            "Epoch 73/100\n",
            "93/93 - 9s - loss: 0.0229 - mae: 0.1545 - lr: 3.9811e-05 - 9s/epoch - 100ms/step\n",
            "Epoch 74/100\n",
            "93/93 - 8s - loss: 0.0220 - mae: 0.1517 - lr: 4.4668e-05 - 8s/epoch - 91ms/step\n",
            "Epoch 75/100\n",
            "\n",
            "Reached desired metric(s) so cancelling training!\n",
            "93/93 - 8s - loss: 0.0213 - mae: 0.1492 - lr: 5.0119e-05 - 8s/epoch - 87ms/step\n"
          ]
        }
      ]
    },
    {
      "cell_type": "markdown",
      "source": [
        "# Evaluation"
      ],
      "metadata": {
        "id": "yRty_hMLOpaf"
      }
    },
    {
      "cell_type": "code",
      "source": [
        "plt.plot(history.history['mae'], 'red')\n",
        "plt.title('Training MAE')\n",
        "plt.ylabel('mae')\n",
        "plt.xlabel('epoch')\n",
        "plt.legend(['train'], loc='upper right')\n",
        "plt.show()"
      ],
      "metadata": {
        "colab": {
          "base_uri": "https://localhost:8080/",
          "height": 472
        },
        "id": "jdkKzvGyXLHe",
        "outputId": "add1729c-8d2d-4034-9aff-9aed4975e025"
      },
      "execution_count": 38,
      "outputs": [
        {
          "output_type": "display_data",
          "data": {
            "text/plain": [
              "<Figure size 640x480 with 1 Axes>"
            ],
            "image/png": "[encoded data removed]"
          },
          "metadata": {}
        }
      ]
    }
  ]
}